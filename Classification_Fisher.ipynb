{
 "cells": [
  {
   "cell_type": "code",
   "execution_count": 1,
   "metadata": {},
   "outputs": [],
   "source": [
    "import numpy as np\n",
    "import pandas as pd"
   ]
  },
  {
   "cell_type": "code",
   "execution_count": 2,
   "metadata": {},
   "outputs": [],
   "source": [
    "data = pd.read_csv('IRIS.csv')"
   ]
  },
  {
   "cell_type": "code",
   "execution_count": 3,
   "metadata": {},
   "outputs": [
    {
     "data": {
      "text/html": [
       "<div>\n",
       "<style scoped>\n",
       "    .dataframe tbody tr th:only-of-type {\n",
       "        vertical-align: middle;\n",
       "    }\n",
       "\n",
       "    .dataframe tbody tr th {\n",
       "        vertical-align: top;\n",
       "    }\n",
       "\n",
       "    .dataframe thead th {\n",
       "        text-align: right;\n",
       "    }\n",
       "</style>\n",
       "<table border=\"1\" class=\"dataframe\">\n",
       "  <thead>\n",
       "    <tr style=\"text-align: right;\">\n",
       "      <th></th>\n",
       "      <th>sepal_length</th>\n",
       "      <th>sepal_width</th>\n",
       "      <th>petal_length</th>\n",
       "      <th>petal_width</th>\n",
       "      <th>species</th>\n",
       "    </tr>\n",
       "  </thead>\n",
       "  <tbody>\n",
       "    <tr>\n",
       "      <th>0</th>\n",
       "      <td>5.1</td>\n",
       "      <td>3.5</td>\n",
       "      <td>1.4</td>\n",
       "      <td>0.2</td>\n",
       "      <td>Iris-setosa</td>\n",
       "    </tr>\n",
       "    <tr>\n",
       "      <th>1</th>\n",
       "      <td>4.9</td>\n",
       "      <td>3.0</td>\n",
       "      <td>1.4</td>\n",
       "      <td>0.2</td>\n",
       "      <td>Iris-setosa</td>\n",
       "    </tr>\n",
       "    <tr>\n",
       "      <th>2</th>\n",
       "      <td>4.7</td>\n",
       "      <td>3.2</td>\n",
       "      <td>1.3</td>\n",
       "      <td>0.2</td>\n",
       "      <td>Iris-setosa</td>\n",
       "    </tr>\n",
       "    <tr>\n",
       "      <th>3</th>\n",
       "      <td>4.6</td>\n",
       "      <td>3.1</td>\n",
       "      <td>1.5</td>\n",
       "      <td>0.2</td>\n",
       "      <td>Iris-setosa</td>\n",
       "    </tr>\n",
       "    <tr>\n",
       "      <th>4</th>\n",
       "      <td>5.0</td>\n",
       "      <td>3.6</td>\n",
       "      <td>1.4</td>\n",
       "      <td>0.2</td>\n",
       "      <td>Iris-setosa</td>\n",
       "    </tr>\n",
       "  </tbody>\n",
       "</table>\n",
       "</div>"
      ],
      "text/plain": [
       "   sepal_length  sepal_width  petal_length  petal_width      species\n",
       "0           5.1          3.5           1.4          0.2  Iris-setosa\n",
       "1           4.9          3.0           1.4          0.2  Iris-setosa\n",
       "2           4.7          3.2           1.3          0.2  Iris-setosa\n",
       "3           4.6          3.1           1.5          0.2  Iris-setosa\n",
       "4           5.0          3.6           1.4          0.2  Iris-setosa"
      ]
     },
     "execution_count": 3,
     "metadata": {},
     "output_type": "execute_result"
    }
   ],
   "source": [
    "data.head()"
   ]
  },
  {
   "cell_type": "code",
   "execution_count": 4,
   "metadata": {},
   "outputs": [
    {
     "data": {
      "text/plain": [
       "array(['Iris-setosa', 'Iris-versicolor', 'Iris-virginica'], dtype=object)"
      ]
     },
     "execution_count": 4,
     "metadata": {},
     "output_type": "execute_result"
    }
   ],
   "source": [
    "data['species'].unique()"
   ]
  },
  {
   "cell_type": "code",
   "execution_count": 5,
   "metadata": {},
   "outputs": [],
   "source": [
    "X = data.drop(['species'],axis=1)\n",
    "y = data['species'].map({'Iris-setosa':0, 'Iris-versicolor':1, 'Iris-virginica':2})"
   ]
  },
  {
   "cell_type": "code",
   "execution_count": 6,
   "metadata": {},
   "outputs": [
    {
     "data": {
      "text/plain": [
       "array([0, 1, 2])"
      ]
     },
     "execution_count": 6,
     "metadata": {},
     "output_type": "execute_result"
    }
   ],
   "source": [
    "y.unique()"
   ]
  },
  {
   "cell_type": "code",
   "execution_count": 13,
   "metadata": {},
   "outputs": [],
   "source": [
    "class classifier:\n",
    "    def __init__(self,X,y,dim):\n",
    "        self.X = X          \n",
    "        self.y = y          \n",
    "        self.dim = dim\n",
    "        self.n_class = y.value_counts()\n",
    "        self.priors = []\n",
    "        self.classes = y.unique()\n",
    "    def prior_calc(self):\n",
    "        for c in self.classes:\n",
    "            self.priors.append(self.n_class[c]/sum(self.n_class))\n",
    "        \n",
    "    def projection(self):\n",
    "        indices = []\n",
    "        mean=[]\n",
    "        for c in self.classes:\n",
    "            indices.append(self.y[self.y==c].index)\n",
    "        for m in self.classes:\n",
    "            mean.append(np.mean(self.X.loc[indices[m],:],axis=0))\n",
    "        #within covariance matrix\n",
    "        Sw=[]\n",
    "        for s in self.classes:\n",
    "            Sw.append(np.dot((self.X.loc[indices[s],:]-mean[s]).T,(self.X.loc[indices[s],:]-mean[s])))\n",
    "        total_m = np.mean(self.X,axis=0)\n",
    "        Sb=0\n",
    "        for b in self.classes:\n",
    "            Sb += self.n_class[b]*np.dot((mean[b]-total_m),(mean[b]-total_m).T)\n",
    "        eigenvalues,eigenvectors = np.linalg.eig(np.dot(np.linalg.inv(sum(Sw)),Sb))\n",
    "        idx = eigenvalues.argsort()[::-1]\n",
    "        eigenvalues = eigenvalues[idx]\n",
    "        eigenvectors = eigenvectors[:,idx]\n",
    "        if self.dim<=self.X.shape[1]:\n",
    "            W = eigenvectors[:,:self.dim]\n",
    "            return np.dot(self.X,W)\n",
    "        else:\n",
    "            print(\"Choose a dimension lower than\"+(self.X.shape[1])) \n",
    "    \n",
    "    def gaussian_distribution(self,x,u,cov):\n",
    "        scalar = 1. / ((2 * np.pi) ** (x.shape[0] / 2.)) * (1 /(np.sqrt(np.linalg.det(cov))))\n",
    "        x_sub_u = np.subtract(x, u)\n",
    "        return scalar * np.exp(-np.dot(np.dot(x_sub_u, np.linalg.inv(cov)), x_sub_u.T) / 2.)\n",
    "    def means(self,X,y):\n",
    "        indices=[]\n",
    "        means =[]\n",
    "        for c in self.classes:\n",
    "            indices.append([])\n",
    "        for i in range(0,len(y)):\n",
    "            z =y.loc[i,'species']\n",
    "            indices[z].append(i)\n",
    "         #mean of reduced class\n",
    "        for c in self.classes:\n",
    "            means.append(np.mean(X[indices[c],:],axis=0))\n",
    "        return means\n",
    "    def cov(self,X,y,mean):\n",
    "        sw = []\n",
    "        indices=[]\n",
    "        for c in self.classes:\n",
    "            indices.append([])\n",
    "        for i in range(0,len(y)):\n",
    "            z =y.loc[i,'species']\n",
    "            indices[z].append(i)\n",
    "        for c in self.classes:\n",
    "            sw.append(np.dot((X[indices[c],:]-mean[c]).T,(X[indices[c],:]-mean[c])))\n",
    "        return sw\n",
    "    def posterior(self):\n",
    "        X = self.projection()\n",
    "        y = self.y.reset_index().drop('index',axis=1)\n",
    "        mean = self.means(X,y)\n",
    "        Sw = self.cov(X,y,mean)\n",
    "        posterior = []\n",
    "        self.prior_calc()\n",
    "        priors = self.priors\n",
    "        for x in X:\n",
    "            row = []\n",
    "            for c in self.classes:\n",
    "                res =priors[c] * self.gaussian_distribution(x,mean[c],Sw[c]) \n",
    "                row.append(res)\n",
    "            posterior.append(row)\n",
    "        return posterior\n",
    "\n",
    "        "
   ]
  },
  {
   "cell_type": "code",
   "execution_count": 34,
   "metadata": {},
   "outputs": [],
   "source": [
    "c = classifier(X,y,2) \n",
    "pred = c.posterior()"
   ]
  },
  {
   "cell_type": "code",
   "execution_count": 35,
   "metadata": {},
   "outputs": [],
   "source": [
    "norm = np.sum(pred,axis=0)"
   ]
  },
  {
   "cell_type": "code",
   "execution_count": 36,
   "metadata": {},
   "outputs": [],
   "source": [
    "norm_pred = np.array(pred)/norm"
   ]
  },
  {
   "cell_type": "code",
   "execution_count": 37,
   "metadata": {},
   "outputs": [],
   "source": [
    "predictions = np.argmax(norm_pred, axis=1)"
   ]
  },
  {
   "cell_type": "code",
   "execution_count": 38,
   "metadata": {},
   "outputs": [
    {
     "name": "stdout",
     "output_type": "stream",
     "text": [
      "[[50  0  0]\n",
      " [ 1 45  4]\n",
      " [ 0  2 48]]\n"
     ]
    },
    {
     "data": {
      "text/plain": [
       "0.9533333333333334"
      ]
     },
     "execution_count": 38,
     "metadata": {},
     "output_type": "execute_result"
    }
   ],
   "source": [
    "from sklearn.metrics import confusion_matrix, accuracy_score\n",
    "cm = confusion_matrix(y, predictions)\n",
    "print(cm)\n",
    "accuracy_score(y, predictions)"
   ]
  },
  {
   "cell_type": "code",
   "execution_count": null,
   "metadata": {},
   "outputs": [],
   "source": []
  }
 ],
 "metadata": {
  "kernelspec": {
   "display_name": "Python 3",
   "language": "python",
   "name": "python3"
  },
  "language_info": {
   "codemirror_mode": {
    "name": "ipython",
    "version": 3
   },
   "file_extension": ".py",
   "mimetype": "text/x-python",
   "name": "python",
   "nbconvert_exporter": "python",
   "pygments_lexer": "ipython3",
   "version": "3.8.3"
  }
 },
 "nbformat": 4,
 "nbformat_minor": 4
}
